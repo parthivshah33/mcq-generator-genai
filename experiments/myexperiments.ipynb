{
 "cells": [
  {
   "cell_type": "code",
   "execution_count": 9,
   "metadata": {},
   "outputs": [],
   "source": [
    "from langchain_google_genai import ChatGoogleGenerativeAI\n",
    "from langchain.prompts import PromptTemplate\n",
    "from langchain.chains import SimpleSequentialChain, LLMChain\n",
    "import os\n",
    "import json"
   ]
  },
  {
   "cell_type": "code",
   "execution_count": 2,
   "metadata": {},
   "outputs": [],
   "source": [
    "llm = ChatGoogleGenerativeAI(\n",
    "    model='gemini-pro',\n",
    "    google_api_key=os.getenv('GEMINI_API_KEY'),\n",
    "    convert_system_message_to_human=True\n",
    ")"
   ]
  },
  {
   "cell_type": "code",
   "execution_count": 3,
   "metadata": {},
   "outputs": [],
   "source": [
    "json_question_output_format = {\n",
    "    \"questions\": [\n",
    "        {\n",
    "            \"question\": \"What is the capital of France?\",\n",
    "            \"options\": {\n",
    "                \"A\": \"Berlin\",\n",
    "                \"B\": \"Madrid\",\n",
    "                \"C\": \"Paris\",\n",
    "                \"D\": \"Rome\"\n",
    "            },\n",
    "            \"correct_answer\": \"C\"\n",
    "        },\n",
    "        {\n",
    "            \"question\": \"Which gas do plants primarily absorb during photosynthesis?\",\n",
    "            \"options\": {\n",
    "                \"A\": \"Oxygen\",\n",
    "                \"B\": \"Carbon dioxide\",\n",
    "                \"C\": \"Nitrogen\",\n",
    "                \"D\": \"Hydrogen\"\n",
    "            },\n",
    "            \"correct_answer\": \"B\"\n",
    "        }\n",
    "    ]\n",
    "}"
   ]
  },
  {
   "cell_type": "code",
   "execution_count": 123,
   "metadata": {},
   "outputs": [],
   "source": [
    "question_generation_prompt = PromptTemplate(\n",
    "\n",
    "    input_variables=['number_of_questions', 'topic',\n",
    "                     'difficulty_level', 'json_question_output_format'],\n",
    "\n",
    "    template='''\n",
    "    You are an Smart Assistant AI that generates multiple-choice questions (MCQs) for a given topic.\n",
    "    There will be three difficulty level for the questions. for example : easy, medium, hard. Each question should have four answer options, one of which is correct. Make sure the questions are not repeated.\n",
    "    \n",
    "    Based on the input, generate {number_of_questions} multiple-choice questions on the topic \"{topic}\". The Diificulty Level of the question is {difficulty_level}\n",
    "\n",
    "Must follow Instructions:\n",
    "- don't put output json format into double quotation marks like \"...\"\n",
    "- use '`' symbol in the content of questions, options and answers instead of \"'\".\n",
    "- strictly follow given example output format.\n",
    "- Make sure each question has four answer options, clearly labeled as A, B, C, and D.\n",
    "- Ensure that only one answer is correct.\n",
    "- Generate varied questions that cover different aspects of the topic, but stay relevant.\n",
    "- Return the questions in the following format:\n",
    "\n",
    "Example output:\n",
    "\n",
    "{json_question_output_format}\n",
    "\n",
    "    '''\n",
    ")"
   ]
  },
  {
   "cell_type": "code",
   "execution_count": 124,
   "metadata": {},
   "outputs": [],
   "source": [
    "question_generator_chain = LLMChain(\n",
    "    llm=llm, prompt=question_generation_prompt, verbose=True)"
   ]
  },
  {
   "cell_type": "code",
   "execution_count": 140,
   "metadata": {},
   "outputs": [
    {
     "name": "stdout",
     "output_type": "stream",
     "text": [
      "\n",
      "\n",
      "\u001b[1m> Entering new LLMChain chain...\u001b[0m\n",
      "Prompt after formatting:\n",
      "\u001b[32;1m\u001b[1;3m\n",
      "    You are an Smart Assistant AI that generates multiple-choice questions (MCQs) for a given topic.\n",
      "    There will be three difficulty level for the questions. for example : easy, medium, hard. Each question should have four answer options, one of which is correct. Make sure the questions are not repeated.\n",
      "    \n",
      "    Based on the input, generate 25 multiple-choice questions on the topic \"python\". The Diificulty Level of the question is medium\n",
      "\n",
      "Must follow Instructions:\n",
      "- don't put output json format into double quotation marks like \"...\"\n",
      "- use '`' symbol in the content of questions, options and answers instead of \"'\".\n",
      "- strictly follow given example output format.\n",
      "- Make sure each question has four answer options, clearly labeled as A, B, C, and D.\n",
      "- Ensure that only one answer is correct.\n",
      "- Generate varied questions that cover different aspects of the topic, but stay relevant.\n",
      "- Return the questions in the following format:\n",
      "\n",
      "Example output:\n",
      "\n",
      "{'questions': [{'question': 'What is the capital of France?', 'options': {'A': 'Berlin', 'B': 'Madrid', 'C': 'Paris', 'D': 'Rome'}, 'correct_answer': 'C'}, {'question': 'Which gas do plants primarily absorb during photosynthesis?', 'options': {'A': 'Oxygen', 'B': 'Carbon dioxide', 'C': 'Nitrogen', 'D': 'Hydrogen'}, 'correct_answer': 'B'}]}\n",
      "\n",
      "    \u001b[0m\n",
      "\n",
      "\u001b[1m> Finished chain.\u001b[0m\n"
     ]
    }
   ],
   "source": [
    "generated_question = question_generator_chain.run({'number_of_questions': 25, 'topic': 'python',\n",
    "                                                   'difficulty_level': 'medium', \"json_question_output_format\": json_question_output_format})"
   ]
  },
  {
   "cell_type": "code",
   "execution_count": 141,
   "metadata": {},
   "outputs": [
    {
     "data": {
      "text/plain": [
       "'{\\'questions\\': [{\\'question\\': `In Python, what is the output of the following code:\\nmy_list = [1, 2, 3, 4, 5]\\nmy_new_list = my_list[::2]\\nprint(my_new_list)`, \\'options\\': {\\'A\\': \\'[1, 2, 3, 4, 5]\\', \\'B\\': \\'[1, 3, 5]\\', \\'C\\': \\'[2, 4]\\', \\'D\\': \\'[]\\'}, \\'correct_answer\\': \\'B\\'}, {\\'question\\': `Which of the following is a valid syntax to create a dictionary in Python?`, \\'options\\': {\\'A\\': \\'my_dict = {\"key1\": \"value1\", \"key2\": \"value2\"}\\', \\'B\\': \\'my_dict = {key1: \"value1\", key2: \"value2\"}\\', \\'C\\': \\'my_dict = dict({\"key1\": \"value1\", \"key2\": \"value2\"})\\', \\'D\\': \\'All of the above\\'}, \\'correct_answer\\': \\'D\\'}, {\\'question\\': `What is the purpose of the \\'break\\' statement in Python?`, \\'options\\': {\\'A\\': \\'To terminate the execution of a loop\\', \\'B\\': \\'To skip the current iteration of a loop\\', \\'C\\': \\'To exit a function\\', \\'D\\': \\'To handle exceptions\\'}, \\'correct_answer\\': \\'A\\'}, {\\'question\\': `Which of the following is NOT a data type in Python?`, \\'options\\': {\\'A\\': \\'Integer\\', \\'B\\': \\'Float\\', \\'C\\': \\'String\\', \\'D\\': \\'Array\\'}, \\'correct_answer\\': \\'D\\'}, {\\'question\\': `What does the following code do in Python:\\nimport math\\nmath.sqrt(16)`, \\'options\\': {\\'A\\': \\'Calculates the square root of 16\\', \\'B\\': \\'Prints the value of 16\\', \\'C\\': \\'Defines a variable named math\\', \\'D\\': \\'None of the above\\'}, \\'correct_answer\\': \\'A\\'}, {\\'question\\': `Which of the following is used to create a user-defined function in Python?`, \\'options\\': {\\'A\\': \\'def\\', \\'B\\': \\'class\\', \\'C\\': \\'for\\', \\'D\\': \\'while\\'}, \\'correct_answer\\': \\'A\\'}, {\\'question\\': `What is the output of the following code in Python:\\nmy_tuple = (1, 2, 3)\\nprint(my_tuple[1])`, \\'options\\': {\\'A\\': \\'1\\', \\'B\\': \\'2\\', \\'C\\': \\'3\\', \\'D\\': \\'None\\'}, \\'correct_answer\\': \\'B\\'}, {\\'question\\': `Which of the following is the correct syntax to import a module in Python?`, \\'options\\': {\\'A\\': \\'import module\\', \\'B\\': \\'from module import function\\', \\'C\\': \\'include module\\', \\'D\\': \\'use module\\'}, \\'correct_answer\\': \\'B\\'}, {\\'question\\': `What is the purpose of the \\'assert\\' statement in Python?`, \\'options\\': {\\'A\\': \\'To verify assumptions made in the code\\', \\'B\\': \\'To handle errors\\', \\'C\\': \\'To define constants\\', \\'D\\': \\'To optimize code execution\\'}, \\'correct_answer\\': \\'A\\'}, {\\'question\\': `Which of the following is a valid string operation in Python?`, \\'options\\': {\\'A\\': \\'concatenation\\', \\'B\\': \\'slicing\\', \\'C\\': \\'reversing\\', \\'D\\': \\'All of the above\\'}, \\'correct_answer\\': \\'D\\'}, {\\'question\\': `What is the result of the following code in Python:\\nmy_string = \"Hello World\"\\nmy_string.upper()`, \\'options\\': {\\'A\\': \\'\"HELLO WORLD\"\\', \\'B\\': \\'\"hello world\"\\', \\'C\\': \\'\"Hello World\"\\', \\'D\\': \\'None of the above\\'}, \\'correct_answer\\': \\'A\\'}, {\\'question\\': `Which of the following is a mutable data type in Python?`, \\'options\\': {\\'A\\': \\'String\\', \\'B\\': \\'List\\', \\'C\\': \\'Tuple\\', \\'D\\': \\'None of the above\\'}, \\'correct_answer\\': \\'B\\'}, {\\'question\\': `What is the purpose of the \\'yield\\' keyword in Python?`, \\'options\\': {\\'A\\': \\'To create generators\\', \\'B\\': \\'To define iterators\\', \\'C\\': \\'To handle exceptions\\', \\'D\\': \\'To optimize code performance\\'}, \\'correct_answer\\': \\'A\\'}, {\\'question\\': `Which of the following is a valid list operation in Python?`, \\'options\\': {\\'A\\': \\'sorting\\', \\'B\\': \\'appending\\', \\'C\\': \\'reversing\\', \\'D\\': \\'All of the above\\'}, \\'correct_answer\\': \\'D\\'}, {\\'question\\': `What is the output of the following code in Python:\\nmy_list = [1, 2, 3]\\nmy_list.extend([4, 5])\\nprint(my_list)`, \\'options\\': {\\'A\\': \\'[1, 2, 3, 4, 5]\\', \\'B\\': \\'[1, 2, 3]\\', \\'C\\': \\'[4, 5]\\', \\'D\\': \\'None of the above\\'}, \\'correct_answer\\': \\'A\\'}, {\\'question\\': `Which of the following is a valid dictionary operation in Python?`, \\'options\\': {\\'A\\': \\'adding a new key-value pair\\', \\'B\\': \\'removing a key-value pair\\', \\'C\\': \\'checking if a key exists\\', \\'D\\': \\'All of the above\\'}, \\'correct_answer\\': \\'D\\'}, {\\'question\\': `What is the purpose of the \\'super()\\' function in Python?`, \\'options\\': {\\'A\\': \\'To access parent class methods\\', \\'B\\': \\'To inherit properties from parent classes\\', \\'C\\': \\'To define child classes\\', \\'D\\': \\'To handle multiple inheritance\\'}, \\'correct_answer\\': \\'A\\'}, {\\'question\\': `Which of the following is a valid method to read a file in Python?`, \\'options\\': {\\'A\\': \\'open()\\', \\'B\\': \\'read()\\', \\'C\\': \\'write()\\', \\'D\\': \\'All of the above\\'}, \\'correct_answer\\': \\'A\\'}, {\\'question\\': `What is the output of the following code in Python:\\nmy_set = {1, 2, 3}\\nmy_set.add(4)\\nprint(my_set)`, \\'options\\': {\\'A\\': \\'{1, 2, 3, 4}\\', \\'B\\': \\'{1, 2, 3}\\', \\'C\\': \\'{4}\\', \\'D\\': \\'None of the above\\'}, \\'correct_answer\\': \\'A\\'}, {\\'question\\': `Which of the following is a valid set operation in Python?`, \\'options\\': {\\'A\\': \\'union\\', \\'B\\': \\'intersection\\', \\'C\\': \\'difference\\', \\'D\\': \\'All of the above\\'}, \\'correct_answer\\': \\'D\\'}, {\\'question\\': `What is the purpose of the \\'with\\' statement in Python?`, \\'options\\': {\\'A\\': \\'To handle file and resource management\\', \\'B\\': \\'To define context managers\\', \\'C\\': \\'To handle exceptions\\', \\'D\\': \\'To optimize code execution\\'}, \\'correct_answer\\': \\'A\\'}, {\\'question\\': `Which of the following is a valid regular expression in Python?`, \\'options\\': {\\'A\\': \\'r\\'^[a-zA-Z]+$\\'\\', \\'B\\': \\'^[a-zA-Z]+$\\', \\'C\\': \\'^[a-zA-Z]*$\\', \\'D\\': \\'All of the above\\'}, \\'correct_answer\\': \\'B\\'}, {\\'question\\': `What is the output of the following code in Python:\\nimport re\\nmy_string = \"Hello 123 World\"\\npattern = r\\'\\\\d+\\'\\nmatch = re.search(pattern, my_string)\\nprint(match.group())`, \\'options\\': {\\'A\\': \\'Hello\\', \\'B\\': \\'123\\', \\'C\\': \\'World\\', \\'D\\': \\'None of the above\\'}, \\'correct_answer\\': \\'B\\'}, {\\'question\\': `Which of the following is a valid method to convert a string to an integer in Python?`, \\'options\\': {\\'A\\': \\'int()\\', \\'B\\': \\'float()\\', \\'C\\': \\'str()\\', \\'D\\': \\'All of the above\\'}, \\'correct_answer\\': \\'A\\'}]}'"
      ]
     },
     "execution_count": 141,
     "metadata": {},
     "output_type": "execute_result"
    }
   ],
   "source": [
    "generated_question"
   ]
  },
  {
   "cell_type": "code",
   "execution_count": 142,
   "metadata": {},
   "outputs": [
    {
     "name": "stdout",
     "output_type": "stream",
     "text": [
      "{\"questions\": [{\"question\": `In Python, what is the output of the following code:\n",
      "my_list = [1, 2, 3, 4, 5]\n",
      "my_new_list = my_list[::2]\n",
      "print(my_new_list)`, \"options\": {\"A\": \"[1, 2, 3, 4, 5]\", \"B\": \"[1, 3, 5]\", \"C\": \"[2, 4]\", \"D\": \"[]\"}, \"correct_answer\": \"B\"}, {\"question\": `Which of the following is a valid syntax to create a dictionary in Python?`, \"options\": {\"A\": \"my_dict = {\"key1\": \"value1\", \"key2\": \"value2\"}\", \"B\": \"my_dict = {key1: \"value1\", key2: \"value2\"}\", \"C\": \"my_dict = dict({\"key1\": \"value1\", \"key2\": \"value2\"})\", \"D\": \"All of the above\"}, \"correct_answer\": \"D\"}, {\"question\": `What is the purpose of the \"break\" statement in Python?`, \"options\": {\"A\": \"To terminate the execution of a loop\", \"B\": \"To skip the current iteration of a loop\", \"C\": \"To exit a function\", \"D\": \"To handle exceptions\"}, \"correct_answer\": \"A\"}, {\"question\": `Which of the following is NOT a data type in Python?`, \"options\": {\"A\": \"Integer\", \"B\": \"Float\", \"C\": \"String\", \"D\": \"Array\"}, \"correct_answer\": \"D\"}, {\"question\": `What does the following code do in Python:\n",
      "import math\n",
      "math.sqrt(16)`, \"options\": {\"A\": \"Calculates the square root of 16\", \"B\": \"Prints the value of 16\", \"C\": \"Defines a variable named math\", \"D\": \"None of the above\"}, \"correct_answer\": \"A\"}, {\"question\": `Which of the following is used to create a user-defined function in Python?`, \"options\": {\"A\": \"def\", \"B\": \"class\", \"C\": \"for\", \"D\": \"while\"}, \"correct_answer\": \"A\"}, {\"question\": `What is the output of the following code in Python:\n",
      "my_tuple = (1, 2, 3)\n",
      "print(my_tuple[1])`, \"options\": {\"A\": \"1\", \"B\": \"2\", \"C\": \"3\", \"D\": \"None\"}, \"correct_answer\": \"B\"}, {\"question\": `Which of the following is the correct syntax to import a module in Python?`, \"options\": {\"A\": \"import module\", \"B\": \"from module import function\", \"C\": \"include module\", \"D\": \"use module\"}, \"correct_answer\": \"B\"}, {\"question\": `What is the purpose of the \"assert\" statement in Python?`, \"options\": {\"A\": \"To verify assumptions made in the code\", \"B\": \"To handle errors\", \"C\": \"To define constants\", \"D\": \"To optimize code execution\"}, \"correct_answer\": \"A\"}, {\"question\": `Which of the following is a valid string operation in Python?`, \"options\": {\"A\": \"concatenation\", \"B\": \"slicing\", \"C\": \"reversing\", \"D\": \"All of the above\"}, \"correct_answer\": \"D\"}, {\"question\": `What is the result of the following code in Python:\n",
      "my_string = \"Hello World\"\n",
      "my_string.upper()`, \"options\": {\"A\": \"\"HELLO WORLD\"\", \"B\": \"\"hello world\"\", \"C\": \"\"Hello World\"\", \"D\": \"None of the above\"}, \"correct_answer\": \"A\"}, {\"question\": `Which of the following is a mutable data type in Python?`, \"options\": {\"A\": \"String\", \"B\": \"List\", \"C\": \"Tuple\", \"D\": \"None of the above\"}, \"correct_answer\": \"B\"}, {\"question\": `What is the purpose of the \"yield\" keyword in Python?`, \"options\": {\"A\": \"To create generators\", \"B\": \"To define iterators\", \"C\": \"To handle exceptions\", \"D\": \"To optimize code performance\"}, \"correct_answer\": \"A\"}, {\"question\": `Which of the following is a valid list operation in Python?`, \"options\": {\"A\": \"sorting\", \"B\": \"appending\", \"C\": \"reversing\", \"D\": \"All of the above\"}, \"correct_answer\": \"D\"}, {\"question\": `What is the output of the following code in Python:\n",
      "my_list = [1, 2, 3]\n",
      "my_list.extend([4, 5])\n",
      "print(my_list)`, \"options\": {\"A\": \"[1, 2, 3, 4, 5]\", \"B\": \"[1, 2, 3]\", \"C\": \"[4, 5]\", \"D\": \"None of the above\"}, \"correct_answer\": \"A\"}, {\"question\": `Which of the following is a valid dictionary operation in Python?`, \"options\": {\"A\": \"adding a new key-value pair\", \"B\": \"removing a key-value pair\", \"C\": \"checking if a key exists\", \"D\": \"All of the above\"}, \"correct_answer\": \"D\"}, {\"question\": `What is the purpose of the \"super()\" function in Python?`, \"options\": {\"A\": \"To access parent class methods\", \"B\": \"To inherit properties from parent classes\", \"C\": \"To define child classes\", \"D\": \"To handle multiple inheritance\"}, \"correct_answer\": \"A\"}, {\"question\": `Which of the following is a valid method to read a file in Python?`, \"options\": {\"A\": \"open()\", \"B\": \"read()\", \"C\": \"write()\", \"D\": \"All of the above\"}, \"correct_answer\": \"A\"}, {\"question\": `What is the output of the following code in Python:\n",
      "my_set = {1, 2, 3}\n",
      "my_set.add(4)\n",
      "print(my_set)`, \"options\": {\"A\": \"{1, 2, 3, 4}\", \"B\": \"{1, 2, 3}\", \"C\": \"{4}\", \"D\": \"None of the above\"}, \"correct_answer\": \"A\"}, {\"question\": `Which of the following is a valid set operation in Python?`, \"options\": {\"A\": \"union\", \"B\": \"intersection\", \"C\": \"difference\", \"D\": \"All of the above\"}, \"correct_answer\": \"D\"}, {\"question\": `What is the purpose of the \"with\" statement in Python?`, \"options\": {\"A\": \"To handle file and resource management\", \"B\": \"To define context managers\", \"C\": \"To handle exceptions\", \"D\": \"To optimize code execution\"}, \"correct_answer\": \"A\"}, {\"question\": `Which of the following is a valid regular expression in Python?`, \"options\": {\"A\": \"r\"^[a-zA-Z]+$\"\", \"B\": \"^[a-zA-Z]+$\", \"C\": \"^[a-zA-Z]*$\", \"D\": \"All of the above\"}, \"correct_answer\": \"B\"}, {\"question\": `What is the output of the following code in Python:\n",
      "import re\n",
      "my_string = \"Hello 123 World\"\n",
      "pattern = r\"\\d+\"\n",
      "match = re.search(pattern, my_string)\n",
      "print(match.group())`, \"options\": {\"A\": \"Hello\", \"B\": \"123\", \"C\": \"World\", \"D\": \"None of the above\"}, \"correct_answer\": \"B\"}, {\"question\": `Which of the following is a valid method to convert a string to an integer in Python?`, \"options\": {\"A\": \"int()\", \"B\": \"float()\", \"C\": \"str()\", \"D\": \"All of the above\"}, \"correct_answer\": \"A\"}]}\n"
     ]
    }
   ],
   "source": [
    "generated_question = generated_question.replace(\"'\", '\"')\n",
    "print(generated_question)"
   ]
  },
  {
   "cell_type": "code",
   "execution_count": 143,
   "metadata": {},
   "outputs": [
    {
     "ename": "JSONDecodeError",
     "evalue": "Expecting value: line 1 column 29 (char 28)",
     "output_type": "error",
     "traceback": [
      "\u001b[1;31m---------------------------------------------------------------------------\u001b[0m",
      "\u001b[1;31mJSONDecodeError\u001b[0m                           Traceback (most recent call last)",
      "Cell \u001b[1;32mIn[143], line 1\u001b[0m\n\u001b[1;32m----> 1\u001b[0m ans \u001b[38;5;241m=\u001b[39m \u001b[43mjson\u001b[49m\u001b[38;5;241;43m.\u001b[39;49m\u001b[43mloads\u001b[49m\u001b[43m(\u001b[49m\u001b[43mgenerated_question\u001b[49m\u001b[43m)\u001b[49m\n",
      "File \u001b[1;32md:\\Generative AI Projects\\MCQs Generator\\mcqgenai\\lib\\json\\__init__.py:346\u001b[0m, in \u001b[0;36mloads\u001b[1;34m(s, cls, object_hook, parse_float, parse_int, parse_constant, object_pairs_hook, **kw)\u001b[0m\n\u001b[0;32m    341\u001b[0m     s \u001b[38;5;241m=\u001b[39m s\u001b[38;5;241m.\u001b[39mdecode(detect_encoding(s), \u001b[38;5;124m'\u001b[39m\u001b[38;5;124msurrogatepass\u001b[39m\u001b[38;5;124m'\u001b[39m)\n\u001b[0;32m    343\u001b[0m \u001b[38;5;28;01mif\u001b[39;00m (\u001b[38;5;28mcls\u001b[39m \u001b[38;5;129;01mis\u001b[39;00m \u001b[38;5;28;01mNone\u001b[39;00m \u001b[38;5;129;01mand\u001b[39;00m object_hook \u001b[38;5;129;01mis\u001b[39;00m \u001b[38;5;28;01mNone\u001b[39;00m \u001b[38;5;129;01mand\u001b[39;00m\n\u001b[0;32m    344\u001b[0m         parse_int \u001b[38;5;129;01mis\u001b[39;00m \u001b[38;5;28;01mNone\u001b[39;00m \u001b[38;5;129;01mand\u001b[39;00m parse_float \u001b[38;5;129;01mis\u001b[39;00m \u001b[38;5;28;01mNone\u001b[39;00m \u001b[38;5;129;01mand\u001b[39;00m\n\u001b[0;32m    345\u001b[0m         parse_constant \u001b[38;5;129;01mis\u001b[39;00m \u001b[38;5;28;01mNone\u001b[39;00m \u001b[38;5;129;01mand\u001b[39;00m object_pairs_hook \u001b[38;5;129;01mis\u001b[39;00m \u001b[38;5;28;01mNone\u001b[39;00m \u001b[38;5;129;01mand\u001b[39;00m \u001b[38;5;129;01mnot\u001b[39;00m kw):\n\u001b[1;32m--> 346\u001b[0m     \u001b[38;5;28;01mreturn\u001b[39;00m \u001b[43m_default_decoder\u001b[49m\u001b[38;5;241;43m.\u001b[39;49m\u001b[43mdecode\u001b[49m\u001b[43m(\u001b[49m\u001b[43ms\u001b[49m\u001b[43m)\u001b[49m\n\u001b[0;32m    347\u001b[0m \u001b[38;5;28;01mif\u001b[39;00m \u001b[38;5;28mcls\u001b[39m \u001b[38;5;129;01mis\u001b[39;00m \u001b[38;5;28;01mNone\u001b[39;00m:\n\u001b[0;32m    348\u001b[0m     \u001b[38;5;28mcls\u001b[39m \u001b[38;5;241m=\u001b[39m JSONDecoder\n",
      "File \u001b[1;32md:\\Generative AI Projects\\MCQs Generator\\mcqgenai\\lib\\json\\decoder.py:337\u001b[0m, in \u001b[0;36mJSONDecoder.decode\u001b[1;34m(self, s, _w)\u001b[0m\n\u001b[0;32m    332\u001b[0m \u001b[38;5;28;01mdef\u001b[39;00m \u001b[38;5;21mdecode\u001b[39m(\u001b[38;5;28mself\u001b[39m, s, _w\u001b[38;5;241m=\u001b[39mWHITESPACE\u001b[38;5;241m.\u001b[39mmatch):\n\u001b[0;32m    333\u001b[0m \u001b[38;5;250m    \u001b[39m\u001b[38;5;124;03m\"\"\"Return the Python representation of ``s`` (a ``str`` instance\u001b[39;00m\n\u001b[0;32m    334\u001b[0m \u001b[38;5;124;03m    containing a JSON document).\u001b[39;00m\n\u001b[0;32m    335\u001b[0m \n\u001b[0;32m    336\u001b[0m \u001b[38;5;124;03m    \"\"\"\u001b[39;00m\n\u001b[1;32m--> 337\u001b[0m     obj, end \u001b[38;5;241m=\u001b[39m \u001b[38;5;28;43mself\u001b[39;49m\u001b[38;5;241;43m.\u001b[39;49m\u001b[43mraw_decode\u001b[49m\u001b[43m(\u001b[49m\u001b[43ms\u001b[49m\u001b[43m,\u001b[49m\u001b[43m \u001b[49m\u001b[43midx\u001b[49m\u001b[38;5;241;43m=\u001b[39;49m\u001b[43m_w\u001b[49m\u001b[43m(\u001b[49m\u001b[43ms\u001b[49m\u001b[43m,\u001b[49m\u001b[43m \u001b[49m\u001b[38;5;241;43m0\u001b[39;49m\u001b[43m)\u001b[49m\u001b[38;5;241;43m.\u001b[39;49m\u001b[43mend\u001b[49m\u001b[43m(\u001b[49m\u001b[43m)\u001b[49m\u001b[43m)\u001b[49m\n\u001b[0;32m    338\u001b[0m     end \u001b[38;5;241m=\u001b[39m _w(s, end)\u001b[38;5;241m.\u001b[39mend()\n\u001b[0;32m    339\u001b[0m     \u001b[38;5;28;01mif\u001b[39;00m end \u001b[38;5;241m!=\u001b[39m \u001b[38;5;28mlen\u001b[39m(s):\n",
      "File \u001b[1;32md:\\Generative AI Projects\\MCQs Generator\\mcqgenai\\lib\\json\\decoder.py:355\u001b[0m, in \u001b[0;36mJSONDecoder.raw_decode\u001b[1;34m(self, s, idx)\u001b[0m\n\u001b[0;32m    353\u001b[0m     obj, end \u001b[38;5;241m=\u001b[39m \u001b[38;5;28mself\u001b[39m\u001b[38;5;241m.\u001b[39mscan_once(s, idx)\n\u001b[0;32m    354\u001b[0m \u001b[38;5;28;01mexcept\u001b[39;00m \u001b[38;5;167;01mStopIteration\u001b[39;00m \u001b[38;5;28;01mas\u001b[39;00m err:\n\u001b[1;32m--> 355\u001b[0m     \u001b[38;5;28;01mraise\u001b[39;00m JSONDecodeError(\u001b[38;5;124m\"\u001b[39m\u001b[38;5;124mExpecting value\u001b[39m\u001b[38;5;124m\"\u001b[39m, s, err\u001b[38;5;241m.\u001b[39mvalue) \u001b[38;5;28;01mfrom\u001b[39;00m \u001b[38;5;28;01mNone\u001b[39;00m\n\u001b[0;32m    356\u001b[0m \u001b[38;5;28;01mreturn\u001b[39;00m obj, end\n",
      "\u001b[1;31mJSONDecodeError\u001b[0m: Expecting value: line 1 column 29 (char 28)"
     ]
    }
   ],
   "source": [
    "ans = json.loads(generated_question)"
   ]
  },
  {
   "cell_type": "code",
   "execution_count": 139,
   "metadata": {},
   "outputs": [],
   "source": [
    "# Open a file in write mode\n",
    "with open('questions_and_answers.txt', 'w') as file:\n",
    "    for i in range(50):\n",
    "        try:\n",
    "            # Write the formatted content to the file\n",
    "            file.write(f\"\"\"\n",
    "            Question {i+1}: {ans['questions'][i]['question']}\n",
    "            Options : \n",
    "                A. {ans['questions'][i]['options']['A']}\n",
    "                B. {ans['questions'][i]['options']['B']}\n",
    "                C. {ans['questions'][i]['options']['C']}\n",
    "                D. {ans['questions'][i]['options']['D']}\n",
    "            Correct Answer : {ans['questions'][i]['options'][ans['questions'][i]['correct_answer']]}\n",
    "            \\n\n",
    "            \"\"\")\n",
    "        except IndexError:\n",
    "            continue\n",
    "        except KeyError as e:\n",
    "            # Handle the case where a key is missing in the data\n",
    "            file.write(f\"Question {i+1}: Error - Missing key {e}\\n\\n\")\n",
    "        except Exception as e:\n",
    "            # Handle any other exceptions\n",
    "            file.write(f\"Question {i+1}: Error - {str(e)}\\n\\n\")"
   ]
  },
  {
   "cell_type": "code",
   "execution_count": null,
   "metadata": {},
   "outputs": [],
   "source": []
  },
  {
   "cell_type": "code",
   "execution_count": null,
   "metadata": {},
   "outputs": [],
   "source": []
  }
 ],
 "metadata": {
  "kernelspec": {
   "display_name": "Python 3",
   "language": "python",
   "name": "python3"
  },
  "language_info": {
   "codemirror_mode": {
    "name": "ipython",
    "version": 3
   },
   "file_extension": ".py",
   "mimetype": "text/x-python",
   "name": "python",
   "nbconvert_exporter": "python",
   "pygments_lexer": "ipython3",
   "version": "3.9.19"
  }
 },
 "nbformat": 4,
 "nbformat_minor": 2
}
